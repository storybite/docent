{
 "cells": [
  {
   "cell_type": "code",
   "execution_count": 8,
   "metadata": {},
   "outputs": [
    {
     "data": {
      "text/plain": [
       "'D:/workspace/docent/mcp_learn'"
      ]
     },
     "execution_count": 8,
     "metadata": {},
     "output_type": "execute_result"
    }
   ],
   "source": [
    "from pathlib import Path\n",
    "\n",
    "\n",
    "Path(\".\").resolve().as_posix()"
   ]
  },
  {
   "cell_type": "code",
   "execution_count": null,
   "metadata": {},
   "outputs": [],
   "source": [
    "from mcp.server import Server\n",
    "import mcp.types as types\n",
    "\n",
    "# Define available prompts\n",
    "PROMPTS = {\n",
    "    \"git-commit\": types.Prompt(\n",
    "        name=\"git-commit\",\n",
    "        description=\"Generate a Git commit message\",\n",
    "        arguments=[\n",
    "            types.PromptArgument(\n",
    "                name=\"changes\",\n",
    "                description=\"Git diff or description of changes\",\n",
    "                required=True\n",
    "            )\n",
    "        ],\n",
    "    ),\n",
    "    \"explain-code\": types.Prompt(\n",
    "        name=\"explain-code\",\n",
    "        description=\"Explain how code works\",\n",
    "        arguments=[\n",
    "            types.PromptArgument(\n",
    "                name=\"code\",\n",
    "                description=\"Code to explain\",\n",
    "                required=True\n",
    "            ),\n",
    "            types.PromptArgument(\n",
    "                name=\"language\",\n",
    "                description=\"Programming language\",\n",
    "                required=False\n",
    "            )\n",
    "        ],\n",
    "    )\n",
    "}\n",
    "\n",
    "# Initialize server\n",
    "app = Server(\"example-prompts-server\")\n",
    "\n",
    "@app.list_prompts()\n",
    "async def list_prompts() -> list[types.Prompt]:\n",
    "    return list(PROMPTS.values())\n",
    "\n",
    "@app.get_prompt()\n",
    "async def get_prompt(\n",
    "    name: str, arguments: dict[str, str] | None = None\n",
    ") -> types.GetPromptResult:\n",
    "    if name not in PROMPTS:\n",
    "        raise ValueError(f\"Prompt not found: {name}\")\n",
    "\n",
    "    if name == \"git-commit\":\n",
    "        changes = arguments.get(\"changes\") if arguments else \"\"\n",
    "        return types.GetPromptResult(\n",
    "            messages=[\n",
    "                types.PromptMessage(\n",
    "                    role=\"user\",\n",
    "                    content=types.TextContent(\n",
    "                        type=\"text\",\n",
    "                        text=f\"Generate a concise but descriptive commit message \"\n",
    "                        f\"for these changes:\\n\\n{changes}\"\n",
    "                    )\n",
    "                )\n",
    "            ]\n",
    "        )\n",
    "\n",
    "    if name == \"explain-code\":\n",
    "        code = arguments.get(\"code\") if arguments else \"\"\n",
    "        language = arguments.get(\"language\", \"Unknown\") if arguments else \"Unknown\"\n",
    "        return types.GetPromptResult(\n",
    "            messages=[\n",
    "                types.PromptMessage(\n",
    "                    role=\"user\",\n",
    "                    content=types.TextContent(\n",
    "                        type=\"text\",\n",
    "                        text=f\"Explain how this {language} code works:\\n\\n{code}\"\n",
    "                    )\n",
    "                )\n",
    "            ]\n",
    "        )\n",
    "\n",
    "    raise ValueError(\"Prompt implementation not found\")"
   ]
  }
 ],
 "metadata": {
  "kernelspec": {
   "display_name": "venv_dcnt",
   "language": "python",
   "name": "python3"
  },
  "language_info": {
   "codemirror_mode": {
    "name": "ipython",
    "version": 3
   },
   "file_extension": ".py",
   "mimetype": "text/x-python",
   "name": "python",
   "nbconvert_exporter": "python",
   "pygments_lexer": "ipython3",
   "version": "3.12.1"
  }
 },
 "nbformat": 4,
 "nbformat_minor": 2
}
