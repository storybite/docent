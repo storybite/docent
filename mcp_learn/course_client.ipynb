{
 "cells": [
  {
   "cell_type": "code",
   "execution_count": 1,
   "metadata": {},
   "outputs": [],
   "source": [
    "from anthropic import Anthropic\n",
    "\n",
    "client = Anthropic()\n",
    "\n",
    "response = client.beta.messages.create(\n",
    "    model=\"claude-sonnet-4-20250514\",\n",
    "    max_tokens=1000,\n",
    "    messages=[{\n",
    "        \"role\": \"user\",\n",
    "        \"content\": \"파이썬 데이터 분석 입문 잔여석 알려줘\"\n",
    "    }],\n",
    "    mcp_servers=[{\n",
    "        \"type\": \"url\",\n",
    "        \"url\": \"https://93bf56e5-e58c-4663-9e81-7c958571acdc-00-1a3z91ko8clxp.pike.replit.dev/mcp/\",\n",
    "        \"name\": \"ItCourseServer\",\n",
    "    }],\n",
    "    betas=[\"mcp-client-2025-04-04\"]\n",
    ")"
   ]
  },
  {
   "cell_type": "code",
   "execution_count": 5,
   "metadata": {},
   "outputs": [
    {
     "name": "stdout",
     "output_type": "stream",
     "text": [
      "{'container': None,\n",
      " 'content': [{'citations': None,\n",
      "              'text': '파이썬 데이터 분석 입문 강의의 잔여석을 확인해드리겠습니다.',\n",
      "              'type': 'text'},\n",
      "             {'id': 'mcptoolu_013tye54t3b8rCcKGC1HCPeE',\n",
      "              'input': {'course_name': '파이썬 데이터 분석 입문'},\n",
      "              'name': 'check_available_seats',\n",
      "              'server_name': 'ItCourseServer',\n",
      "              'type': 'mcp_tool_use'},\n",
      "             {'content': [{'citations': None,\n",
      "                           'text': '파이썬 데이터 분석 입문: 잔여석 8석',\n",
      "                           'type': 'text'}],\n",
      "              'is_error': False,\n",
      "              'tool_use_id': 'mcptoolu_013tye54t3b8rCcKGC1HCPeE',\n",
      "              'type': 'mcp_tool_result'},\n",
      "             {'citations': None,\n",
      "              'text': '파이썬 데이터 분석 입문 강의의 잔여석은 **8석**입니다.',\n",
      "              'type': 'text'}],\n",
      " 'id': 'msg_01YKkCxRV3dzjgRy6WT123vu',\n",
      " 'model': 'claude-sonnet-4-20250514',\n",
      " 'role': 'assistant',\n",
      " 'stop_reason': 'end_turn',\n",
      " 'stop_sequence': None,\n",
      " 'type': 'message',\n",
      " 'usage': {'cache_creation': None,\n",
      "           'cache_creation_input_tokens': 0,\n",
      "           'cache_read_input_tokens': 0,\n",
      "           'input_tokens': 1162,\n",
      "           'output_tokens': 151,\n",
      "           'server_tool_use': {'web_search_requests': 0},\n",
      "           'service_tier': 'standard'}}\n"
     ]
    }
   ],
   "source": [
    "from pprint import pprint\n",
    "pprint(response.model_dump())"
   ]
  },
  {
   "cell_type": "code",
   "execution_count": null,
   "metadata": {},
   "outputs": [
    {
     "ename": "RuntimeError",
     "evalue": "Client is not connected. Use the 'async with client:' context manager first.",
     "output_type": "error",
     "traceback": [
      "\u001b[1;31m---------------------------------------------------------------------------\u001b[0m",
      "\u001b[1;31mRuntimeError\u001b[0m                              Traceback (most recent call last)",
      "Cell \u001b[1;32mIn[1], line 36\u001b[0m\n\u001b[0;32m     30\u001b[0m     prompt_result \u001b[38;5;241m=\u001b[39m \u001b[38;5;28;01mawait\u001b[39;00m client\u001b[38;5;241m.\u001b[39mget_prompt(\n\u001b[0;32m     31\u001b[0m         \u001b[38;5;124m\"\u001b[39m\u001b[38;5;124m강의 추천 프롬프트 템플릿\u001b[39m\u001b[38;5;124m\"\u001b[39m, {\u001b[38;5;124m\"\u001b[39m\u001b[38;5;124mjob\u001b[39m\u001b[38;5;124m\"\u001b[39m: \u001b[38;5;124m\"\u001b[39m\u001b[38;5;124m학생\u001b[39m\u001b[38;5;124m\"\u001b[39m, \u001b[38;5;124m\"\u001b[39m\u001b[38;5;124minterest\u001b[39m\u001b[38;5;124m\"\u001b[39m: \u001b[38;5;124m\"\u001b[39m\u001b[38;5;124m파이썬\u001b[39m\u001b[38;5;124m\"\u001b[39m}\n\u001b[0;32m     32\u001b[0m     )\n\u001b[0;32m     33\u001b[0m     \u001b[38;5;28mprint\u001b[39m(\u001b[38;5;124mf\u001b[39m\u001b[38;5;124m\"\u001b[39m\u001b[38;5;124mprompt_result: \u001b[39m\u001b[38;5;132;01m{\u001b[39;00mprompt_result\u001b[38;5;132;01m}\u001b[39;00m\u001b[38;5;124m\"\u001b[39m)\n\u001b[1;32m---> 36\u001b[0m \u001b[38;5;28;01mawait\u001b[39;00m call_mcp()\n",
      "Cell \u001b[1;32mIn[1], line 11\u001b[0m, in \u001b[0;36mcall_mcp\u001b[1;34m()\u001b[0m\n\u001b[0;32m      7\u001b[0m \u001b[38;5;28;01masync\u001b[39;00m \u001b[38;5;28;01mdef\u001b[39;00m\u001b[38;5;250m \u001b[39m\u001b[38;5;21mcall_mcp\u001b[39m():\n\u001b[1;32m---> 11\u001b[0m     resources_list \u001b[38;5;241m=\u001b[39m \u001b[38;5;28;01mawait\u001b[39;00m client\u001b[38;5;241m.\u001b[39mlist_resources()\n\u001b[0;32m     12\u001b[0m     \u001b[38;5;28mprint\u001b[39m(\u001b[38;5;124mf\u001b[39m\u001b[38;5;124m\"\u001b[39m\u001b[38;5;124mresources_list: \u001b[39m\u001b[38;5;132;01m{\u001b[39;00mresources_list[:\u001b[38;5;241m2\u001b[39m]\u001b[38;5;132;01m}\u001b[39;00m\u001b[38;5;124m\"\u001b[39m)\n\u001b[0;32m     14\u001b[0m     course_catalog \u001b[38;5;241m=\u001b[39m \u001b[38;5;28;01mawait\u001b[39;00m client\u001b[38;5;241m.\u001b[39mread_resource(\u001b[38;5;124m\"\u001b[39m\u001b[38;5;124mfile://course_catalog.txt\u001b[39m\u001b[38;5;124m\"\u001b[39m)\n",
      "File \u001b[1;32md:\\workspace\\docent\\venv_dcnt\\Lib\\site-packages\\fastmcp\\client\\client.py:342\u001b[0m, in \u001b[0;36mClient.list_resources\u001b[1;34m(self)\u001b[0m\n\u001b[0;32m    333\u001b[0m \u001b[38;5;28;01masync\u001b[39;00m \u001b[38;5;28;01mdef\u001b[39;00m\u001b[38;5;250m \u001b[39m\u001b[38;5;21mlist_resources\u001b[39m(\u001b[38;5;28mself\u001b[39m) \u001b[38;5;241m-\u001b[39m\u001b[38;5;241m>\u001b[39m \u001b[38;5;28mlist\u001b[39m[mcp\u001b[38;5;241m.\u001b[39mtypes\u001b[38;5;241m.\u001b[39mResource]:\n\u001b[0;32m    334\u001b[0m \u001b[38;5;250m    \u001b[39m\u001b[38;5;124;03m\"\"\"Retrieve a list of resources available on the server.\u001b[39;00m\n\u001b[0;32m    335\u001b[0m \n\u001b[0;32m    336\u001b[0m \u001b[38;5;124;03m    Returns:\u001b[39;00m\n\u001b[1;32m   (...)\u001b[0m\n\u001b[0;32m    340\u001b[0m \u001b[38;5;124;03m        RuntimeError: If called while the client is not connected.\u001b[39;00m\n\u001b[0;32m    341\u001b[0m \u001b[38;5;124;03m    \"\"\"\u001b[39;00m\n\u001b[1;32m--> 342\u001b[0m     result \u001b[38;5;241m=\u001b[39m \u001b[38;5;28;01mawait\u001b[39;00m \u001b[38;5;28mself\u001b[39m\u001b[38;5;241m.\u001b[39mlist_resources_mcp()\n\u001b[0;32m    343\u001b[0m     \u001b[38;5;28;01mreturn\u001b[39;00m result\u001b[38;5;241m.\u001b[39mresources\n",
      "File \u001b[1;32md:\\workspace\\docent\\venv_dcnt\\Lib\\site-packages\\fastmcp\\client\\client.py:330\u001b[0m, in \u001b[0;36mClient.list_resources_mcp\u001b[1;34m(self)\u001b[0m\n\u001b[0;32m    320\u001b[0m \u001b[38;5;28;01masync\u001b[39;00m \u001b[38;5;28;01mdef\u001b[39;00m\u001b[38;5;250m \u001b[39m\u001b[38;5;21mlist_resources_mcp\u001b[39m(\u001b[38;5;28mself\u001b[39m) \u001b[38;5;241m-\u001b[39m\u001b[38;5;241m>\u001b[39m mcp\u001b[38;5;241m.\u001b[39mtypes\u001b[38;5;241m.\u001b[39mListResourcesResult:\n\u001b[0;32m    321\u001b[0m \u001b[38;5;250m    \u001b[39m\u001b[38;5;124;03m\"\"\"Send a resources/list request and return the complete MCP protocol result.\u001b[39;00m\n\u001b[0;32m    322\u001b[0m \n\u001b[0;32m    323\u001b[0m \u001b[38;5;124;03m    Returns:\u001b[39;00m\n\u001b[1;32m   (...)\u001b[0m\n\u001b[0;32m    328\u001b[0m \u001b[38;5;124;03m        RuntimeError: If called while the client is not connected.\u001b[39;00m\n\u001b[0;32m    329\u001b[0m \u001b[38;5;124;03m    \"\"\"\u001b[39;00m\n\u001b[1;32m--> 330\u001b[0m     result \u001b[38;5;241m=\u001b[39m \u001b[38;5;28;01mawait\u001b[39;00m \u001b[38;5;28;43mself\u001b[39;49m\u001b[38;5;241;43m.\u001b[39;49m\u001b[43msession\u001b[49m\u001b[38;5;241m.\u001b[39mlist_resources()\n\u001b[0;32m    331\u001b[0m     \u001b[38;5;28;01mreturn\u001b[39;00m result\n",
      "File \u001b[1;32md:\\workspace\\docent\\venv_dcnt\\Lib\\site-packages\\fastmcp\\client\\client.py:194\u001b[0m, in \u001b[0;36mClient.session\u001b[1;34m(self)\u001b[0m\n\u001b[0;32m    192\u001b[0m \u001b[38;5;250m\u001b[39m\u001b[38;5;124;03m\"\"\"Get the current active session. Raises RuntimeError if not connected.\"\"\"\u001b[39;00m\n\u001b[0;32m    193\u001b[0m \u001b[38;5;28;01mif\u001b[39;00m \u001b[38;5;28mself\u001b[39m\u001b[38;5;241m.\u001b[39m_session \u001b[38;5;129;01mis\u001b[39;00m \u001b[38;5;28;01mNone\u001b[39;00m:\n\u001b[1;32m--> 194\u001b[0m     \u001b[38;5;28;01mraise\u001b[39;00m \u001b[38;5;167;01mRuntimeError\u001b[39;00m(\n\u001b[0;32m    195\u001b[0m         \u001b[38;5;124m\"\u001b[39m\u001b[38;5;124mClient is not connected. Use the \u001b[39m\u001b[38;5;124m'\u001b[39m\u001b[38;5;124masync with client:\u001b[39m\u001b[38;5;124m'\u001b[39m\u001b[38;5;124m context manager first.\u001b[39m\u001b[38;5;124m\"\u001b[39m\n\u001b[0;32m    196\u001b[0m     )\n\u001b[0;32m    198\u001b[0m \u001b[38;5;28;01mreturn\u001b[39;00m \u001b[38;5;28mself\u001b[39m\u001b[38;5;241m.\u001b[39m_session\n",
      "\u001b[1;31mRuntimeError\u001b[0m: Client is not connected. Use the 'async with client:' context manager first."
     ]
    }
   ],
   "source": [
    "import asyncio\n",
    "from fastmcp import Client\n",
    "\n",
    "client = Client(\"course_server.py\")\n",
    "\n",
    "\n",
    "async def call_mcp():\n",
    "\n",
    "    async with client:\n",
    "\n",
    "        resources_list = await client.list_resources()\n",
    "        print(f\"resources_list: {resources_list[:2]}\")\n",
    "\n",
    "        course_catalog = await client.read_resource(\"file://course_catalog.txt\")\n",
    "        print(f\"course_catalog: {course_catalog[:50]}\")\n",
    "\n",
    "        tools_list = await client.list_tools()\n",
    "        print(f\"tools_list: {tools_list}\")\n",
    "\n",
    "        tool_call_result = await client.call_tool(\n",
    "            \"check_available_seats\", {\"course_name\": \"파이썬 데이터 분석 입문\"}\n",
    "        )\n",
    "        print(f\"tool_call_result: {tool_call_result}\")\n",
    "\n",
    "        prompts_list = await client.list_prompts()\n",
    "        print(f\"prompts_list: {prompts_list}\")\n",
    "\n",
    "        # 2. 특정 프롬프트 호출하기\n",
    "        # 예시: analyze_data 프롬프트 호출\n",
    "        prompt_result = await client.get_prompt(\n",
    "            \"강의 추천 프롬프트 템플릿\", {\"job\": \"학생\", \"interest\": \"파이썬\"}\n",
    "        )\n",
    "        print(f\"prompt_result: {prompt_result}\")\n",
    "\n",
    "\n",
    "await call_mcp()\n"
   ]
  }
 ],
 "metadata": {
  "kernelspec": {
   "display_name": "venv_dcnt",
   "language": "python",
   "name": "python3"
  },
  "language_info": {
   "codemirror_mode": {
    "name": "ipython",
    "version": 3
   },
   "file_extension": ".py",
   "mimetype": "text/x-python",
   "name": "python",
   "nbconvert_exporter": "python",
   "pygments_lexer": "ipython3",
   "version": "3.12.1"
  }
 },
 "nbformat": 4,
 "nbformat_minor": 2
}
