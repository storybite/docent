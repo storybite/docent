{
 "cells": [
  {
   "cell_type": "code",
   "execution_count": null,
   "metadata": {},
   "outputs": [
    {
     "name": "stderr",
     "output_type": "stream",
     "text": [
      "d:\\workspace\\docent\\venv_dcnt\\Lib\\site-packages\\debugpy\\_vendored\\pydevd\\_pydevd_bundle\\pydevd_suspended_frames.py:429: RuntimeWarning: coroutine 'Client.list_tools' was never awaited\n",
      "  self._variable_reference_to_variable.clear()\n",
      "RuntimeWarning: Enable tracemalloc to get the object allocation traceback\n"
     ]
    }
   ],
   "source": [
    "import asyncio\n",
    "from fastmcp import Client\n",
    "\n",
    "client = Client(\"my_mcp_server.py\")\n",
    "\n",
    "\n",
    "async def call_tool(name: str):\n",
    "    async with client:\n",
    "        result = await client.call_tool(\"greet\", {\"name\": name})\n",
    "        print(result)\n",
    "\n",
    "\n",
    "await call_tool(\"Ford\")\n"
   ]
  }
 ],
 "metadata": {
  "kernelspec": {
   "display_name": "venv_dcnt",
   "language": "python",
   "name": "python3"
  },
  "language_info": {
   "codemirror_mode": {
    "name": "ipython",
    "version": 3
   },
   "file_extension": ".py",
   "mimetype": "text/x-python",
   "name": "python",
   "nbconvert_exporter": "python",
   "pygments_lexer": "ipython3",
   "version": "3.12.1"
  }
 },
 "nbformat": 4,
 "nbformat_minor": 2
}
