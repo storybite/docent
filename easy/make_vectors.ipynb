{
 "cells": [
  {
   "cell_type": "code",
   "execution_count": 1,
   "metadata": {},
   "outputs": [],
   "source": [
    "import json\n",
    "from pathlib import Path"
   ]
  },
  {
   "cell_type": "code",
   "execution_count": 2,
   "metadata": {},
   "outputs": [
    {
     "data": {
      "text/plain": [
       "WindowsPath('d:/workspace/docent')"
      ]
     },
     "execution_count": 2,
     "metadata": {},
     "output_type": "execute_result"
    }
   ],
   "source": [
    "project_root = Path.cwd().parent\n",
    "project_root"
   ]
  },
  {
   "cell_type": "code",
   "execution_count": 3,
   "metadata": {},
   "outputs": [],
   "source": [
    "\n",
    "# Read the relic_index.json file\n",
    "with open(project_root / \"data\" / \"database\" / \"relic_index.json\", \"r\", encoding=\"utf-8\") as f:\n",
    "    relic_index = json.load(f)"
   ]
  },
  {
   "cell_type": "code",
   "execution_count": 4,
   "metadata": {},
   "outputs": [],
   "source": [
    "import re\n",
    "\n",
    "HANJA_RE = re.compile(\n",
    "    r\"[\"\n",
    "    r\"\\u4E00-\\u9FFF\"  # 기본\n",
    "    r\"\\u3400-\\u4DBF\"  # 확장 A\n",
    "    r\"\\uF900-\\uFAFF\"  # 호환 한자\n",
    "    r\"\\U00020000-\\U0002A6DF\"  # 확장 B\n",
    "    r\"\\U0002A700-\\U0002B73F\"  # 확장 C–D\n",
    "    r\"\\U0002B740-\\U0002B81F\"  # 확장 E\n",
    "    r\"]+\"\n",
    ")\n",
    "\n",
    "def clean_text(text: str, replace_with: str = \"\") -> str:\n",
    "    text = re.sub(r\"\\([^)]*\\)|,\", \"\", text)\n",
    "    text = HANJA_RE.sub(replace_with, text)\n",
    "    return text\n"
   ]
  },
  {
   "cell_type": "code",
   "execution_count": 5,
   "metadata": {},
   "outputs": [],
   "source": [
    "# Get project root directory\n",
    "import sys\n",
    "project_root = Path.cwd().parent\n",
    "sys.path.append(project_root)"
   ]
  },
  {
   "cell_type": "code",
   "execution_count": 6,
   "metadata": {},
   "outputs": [
    {
     "data": {
      "text/plain": [
       "['C:\\\\Users\\\\bigbl\\\\AppData\\\\Local\\\\Programs\\\\Python\\\\Python312\\\\python312.zip',\n",
       " 'C:\\\\Users\\\\bigbl\\\\AppData\\\\Local\\\\Programs\\\\Python\\\\Python312\\\\DLLs',\n",
       " 'C:\\\\Users\\\\bigbl\\\\AppData\\\\Local\\\\Programs\\\\Python\\\\Python312\\\\Lib',\n",
       " 'C:\\\\Users\\\\bigbl\\\\AppData\\\\Local\\\\Programs\\\\Python\\\\Python312',\n",
       " 'd:\\\\workspace\\\\docent\\\\venv_dcnt',\n",
       " '',\n",
       " 'd:\\\\workspace\\\\docent\\\\venv_dcnt\\\\Lib\\\\site-packages',\n",
       " 'd:\\\\workspace\\\\docent\\\\venv_dcnt\\\\Lib\\\\site-packages\\\\win32',\n",
       " 'd:\\\\workspace\\\\docent\\\\venv_dcnt\\\\Lib\\\\site-packages\\\\win32\\\\lib',\n",
       " 'd:\\\\workspace\\\\docent\\\\venv_dcnt\\\\Lib\\\\site-packages\\\\Pythonwin',\n",
       " WindowsPath('d:/workspace/docent')]"
      ]
     },
     "execution_count": 6,
     "metadata": {},
     "output_type": "execute_result"
    }
   ],
   "source": [
    "sys.path"
   ]
  },
  {
   "cell_type": "code",
   "execution_count": 56,
   "metadata": {},
   "outputs": [],
   "source": [
    "from dataclasses import dataclass, field\n",
    "import numpy as np\n",
    "import os\n",
    "from pathlib import Path\n",
    "from openai import OpenAI\n",
    "import dill\n",
    "import json\n",
    "import re\n",
    "\n",
    "upstage = OpenAI(\n",
    "    api_key=os.getenv(\"UPSTAGE_API_KEY\"), base_url=\"https://api.upstage.ai/v1\"\n",
    ")\n",
    "\n",
    "\n",
    "@dataclass(slots=True)\n",
    "class DocEmbedding:\n",
    "    id: str\n",
    "    doc: str\n",
    "    embedding: list[float] | None = None\n",
    "\n",
    "\n",
    "@dataclass(slots=True)\n",
    "class Similarity:\n",
    "    id: str\n",
    "    doc: str\n",
    "    score: float = 0\n",
    "    collection_name: str = \"\" \n",
    "\n",
    "\n",
    "class Collecton:\n",
    "\n",
    "    _instances = {}\n",
    "\n",
    "    def __new__(cls, name: str):\n",
    "        if name not in cls._instances:\n",
    "            instance = super().__new__(cls)\n",
    "            cls._instances[name] = instance\n",
    "        return cls._instances[name]\n",
    "\n",
    "    def __init__(self, name: str):\n",
    "        if getattr(self, \"_initialized\", False):\n",
    "            return\n",
    "        \n",
    "        self.name = name\n",
    "        self.file_path = project_root / \"data\" / \"vector_store\" / f\"{name}\"\n",
    "        self.index: dict[str, DocEmbedding] = {}\n",
    "        self._initialized = True\n",
    "\n",
    "    def load(self) -> \"Collecton\":\n",
    "        with open(f\"{self.file_path}_meta.json\", \"r\", encoding=\"utf-8\") as f:\n",
    "            docs_list = json.load(f)\n",
    "\n",
    "        embeddings_array = np.load(f\"{self.file_path}_embeddings.npy\")\n",
    "\n",
    "        for doc, embedding in zip(docs_list, embeddings_array):\n",
    "            self.index[doc[\"id\"]] = DocEmbedding(\n",
    "                id=doc[\"id\"],\n",
    "                doc=doc[\"doc\"],\n",
    "                embedding=embedding.tolist()\n",
    "            )\n",
    "            \n",
    "        return self        \n",
    "\n",
    "    def add_doc(self, id: str, doc: str):\n",
    "        self.index[id] = DocEmbedding(id=id, doc=doc)\n",
    "\n",
    "    def build(self):\n",
    "        doc_embeddings_all = list(self.index.values())\n",
    "        doc_embeddings_chunks = [doc_embeddings_all[i:i+100] for i in range(0, len(doc_embeddings_all), 100)]\n",
    "\n",
    "        doc_all_list = []\n",
    "        embedding_all_list = []\n",
    "        for doc_embeddings in doc_embeddings_chunks:\n",
    "            docs = [doc_embedding.doc for doc_embedding in doc_embeddings]\n",
    "            embeddings = self._get_embeddings(docs)\n",
    "            for doc_embedding, embedding in zip(doc_embeddings, embeddings):\n",
    "                doc_embedding.embedding = embedding\n",
    "                doc_all_list.append({\"id\": doc_embedding.id, \"doc\": doc_embedding.doc})\n",
    "                embedding_all_list.append(embedding)\n",
    "\n",
    "        embedding_np_array = np.array(embedding_all_list)\n",
    "        np.save(f\"{self.file_path}_embeddings.npy\", embedding_np_array)        \n",
    "    \n",
    "        with open(f\"{self.file_path}_meta.json\", \"w\", encoding=\"utf-8\") as f:\n",
    "            json.dump(doc_all_list, f, ensure_ascii=False, indent=2)\n",
    "\n",
    "    def query(self, query: str, cutoff=0.4, top_k: int = 60) -> dict[int, Similarity]:\n",
    "        query_embedding = self._get_embeddings(query)[0]\n",
    "        similarities: list[Similarity] = []\n",
    "        for doc_embedding in self.index.values():\n",
    "            score = np.dot(query_embedding, doc_embedding.embedding) / (\n",
    "                np.linalg.norm(query_embedding)\n",
    "                * np.linalg.norm(doc_embedding.embedding)\n",
    "            )\n",
    "            if score < cutoff:\n",
    "                continue\n",
    "            similarities.append(\n",
    "                Similarity(\n",
    "                    id=doc_embedding.id,\n",
    "                    doc=doc_embedding.doc,\n",
    "                    score=float(score),\n",
    "                    collection_name=self.name\n",
    "                )\n",
    "            )\n",
    "\n",
    "        similarities = sorted(similarities, key=lambda x: x.score, reverse=True)[:top_k]\n",
    "        return similarities\n",
    "\n",
    "    def _get_embeddings(self, texts: list[str]) -> list[float]:\n",
    "        embeddings = upstage.embeddings.create(input=texts, model=\"embedding-query\")\n",
    "        return [embedding_data.embedding for embedding_data in embeddings.data]            \n",
    "\n",
    "    def __len__(self) -> int:\n",
    "        return len(self.index)"
   ]
  },
  {
   "cell_type": "code",
   "execution_count": 71,
   "metadata": {},
   "outputs": [
    {
     "data": {
      "text/plain": [
       "433"
      ]
     },
     "execution_count": 71,
     "metadata": {},
     "output_type": "execute_result"
    }
   ],
   "source": [
    "Collecton._instances.pop(\"title\", None)\n",
    "title_collection = Collecton(\"title\")\n",
    "for i, (key, value) in enumerate(relic_index.items()):    \n",
    "    #if i >= 2: break\n",
    "    doc=f\"{clean_text(value['label']['명칭']).strip()}, {clean_text(value['label']['다른명칭']).strip()}\"\n",
    "    title_collection.add_doc(id=key, doc=doc)\n",
    "\n",
    "len(title_collection)"
   ]
  },
  {
   "cell_type": "code",
   "execution_count": 72,
   "metadata": {},
   "outputs": [],
   "source": [
    "#title_collection.build()"
   ]
  },
  {
   "cell_type": "code",
   "execution_count": null,
   "metadata": {},
   "outputs": [
    {
     "name": "stdout",
     "output_type": "stream",
     "text": [
      "key 36560665\n",
      "0.9999977622132544\n",
      "0.8689717032897946\n"
     ]
    }
   ],
   "source": [
    "title_collection.load()\n",
    "print(\"last key\", list(title_collection.index.keys())[-1])\n",
    "resp =title_collection.query(\"감산사 석조미륵보살입상, 국보 경주 감산사 석조 미륵보살 입상\")\n",
    "print(resp[0].score)\n",
    "print(resp[1].score)"
   ]
  },
  {
   "cell_type": "code",
   "execution_count": 103,
   "metadata": {},
   "outputs": [
    {
     "data": {
      "text/plain": [
       "433"
      ]
     },
     "execution_count": 103,
     "metadata": {},
     "output_type": "execute_result"
    }
   ],
   "source": [
    "Collecton._instances.pop(\"content\", None)\n",
    "content_collection = Collecton(\"content\")\n",
    "for i, (key, value) in enumerate(relic_index.items()):    \n",
    "    #if i >= 2: break\n",
    "    if not value['content']:\n",
    "        doc=f\"{clean_text(value['label']['명칭']).strip()}, {clean_text(value['label']['다른명칭']).strip()}\"\n",
    "    else:\n",
    "        doc=f\"{clean_text(value['content']).strip()}\"\n",
    "    \n",
    "    content_collection.add_doc(id=key, doc=doc)\n",
    "\n",
    "len(content_collection)"
   ]
  },
  {
   "cell_type": "code",
   "execution_count": 106,
   "metadata": {},
   "outputs": [],
   "source": [
    "#content_collection.build()"
   ]
  },
  {
   "cell_type": "code",
   "execution_count": 107,
   "metadata": {},
   "outputs": [
    {
     "name": "stdout",
     "output_type": "stream",
     "text": [
      "last key 36560665\n",
      "0.9999971392296716\n",
      "0.837087236523226\n"
     ]
    }
   ],
   "source": [
    "content_collection.load()\n",
    "print(\"last key\", list(content_collection.index.keys())[-1])\n",
    "resp = content_collection.query(\"신체와 광배는 하나의 돌로 제작하고 별도로 제작한 대좌에 결합시켰다. 이러한 형식은 감산사 절터에서 함께 수습된 <아미타불>과 같다. 머리에는 높은 보관을 썼는데 중앙에 화불이 있다. 얼굴은 갸름하나 살이 올라 있고 눈과 입에 미소가 어려 있다. 목에는 삼도가 뚜렷하며 목걸이 팔찌 영락 장식 등으로 신체를 화려하게 장식하고 있다. 오른손은 자연스럽게 내려뜨리고 있고 왼손은 들어 올려 손바닥을 보이고 있다. 팔목에는 천의가 걸쳐져 있는데 법의는 얇아서 신체의 풍만하고 유려한 곡선을 더욱 살려주고 있다. 광배는 배모양에 신체를 모두 감싸는 주형거신광으로 세 가닥의 선으로 두광과 신광을 구분하였다. 광배 뒷면에는 명문이 새겨져 있는데 이를 통해 719년 김지성이 돌아가신 어머니를 위해 조성한 미륵보살상임을 알 수 있다. 표현이 사실적이고 관능적인 모습을 한 통일신라 8세기 불상의 대표적인 사례이다.\")\n",
    "print(resp[0].score)\n",
    "print(resp[1].score)"
   ]
  },
  {
   "cell_type": "code",
   "execution_count": 116,
   "metadata": {},
   "outputs": [
    {
     "data": {
      "text/plain": [
       "433"
      ]
     },
     "execution_count": 116,
     "metadata": {},
     "output_type": "execute_result"
    }
   ],
   "source": [
    "Collecton._instances.pop(\"description\", None)\n",
    "description_collection = Collecton(\"description\")\n",
    "for i, (key, value) in enumerate(relic_index.items()):    \n",
    "    doc=f\"{clean_text(value['image_description']).strip()}\"    \n",
    "    description_collection.add_doc(id=key, doc=doc)\n",
    "\n",
    "len(description_collection)"
   ]
  },
  {
   "cell_type": "code",
   "execution_count": 112,
   "metadata": {},
   "outputs": [],
   "source": [
    "#description_collection.build()"
   ]
  },
  {
   "cell_type": "code",
   "execution_count": 125,
   "metadata": {},
   "outputs": [
    {
     "name": "stdout",
     "output_type": "stream",
     "text": [
      "last key 36560665\n",
      "0.9999978014469297\n",
      "0.8121019154156572\n"
     ]
    }
   ],
   "source": [
    "description_collection.load()\n",
    "print(\"last key\", list(description_collection.index.keys())[-1])\n",
    "resp = description_collection.query(\"이 이미지는 전통적인 불교 조각상으로 타원형의 배경 안에 서 있는 보살상을 보여줍니다. 조각상은 석재로 만들어졌으며 옅은 황토색 또는 베이지 톤을 띠고 있습니다. 보살은 정면을 바라보며 서 있고 머리에는 왕관을 쓰고 있으며 세부적인 의복과 장신구를 착용하고 있습니다. 뒤로는 불꽃 모양의 배경이 있으며 조각상은 연꽃 모양의 받침대 위에 놓여 있습니다. 조각의 디테일은 섬세하고 우아하며 불교 예술의 전형적인 특징을 잘 보여줍니다.\")\n",
    "print(resp[0].score)\n",
    "print(resp[1].score)"
   ]
  }
 ],
 "metadata": {
  "kernelspec": {
   "display_name": "venv_dcnt",
   "language": "python",
   "name": "python3"
  },
  "language_info": {
   "codemirror_mode": {
    "name": "ipython",
    "version": 3
   },
   "file_extension": ".py",
   "mimetype": "text/x-python",
   "name": "python",
   "nbconvert_exporter": "python",
   "pygments_lexer": "ipython3",
   "version": "3.12.1"
  }
 },
 "nbformat": 4,
 "nbformat_minor": 2
}
