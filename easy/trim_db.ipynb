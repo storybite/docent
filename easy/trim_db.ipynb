{
 "cells": [
  {
   "cell_type": "code",
   "execution_count": 1,
   "metadata": {},
   "outputs": [],
   "source": [
    "import os\n",
    "import json\n",
    "from pathlib import Path\n",
    "\n",
    "# Get all directories in the database folder\n",
    "db_path = Path(\"./database\")\n",
    "dirs = [d for d in db_path.iterdir() if d.is_dir()]\n",
    "\n",
    "for dir_path in dirs:\n",
    "    # Check if relic_data.json exists\n",
    "    json_path = dir_path / \"relic_data.json\"\n",
    "    if not json_path.exists():\n",
    "        continue\n",
    "        \n",
    "    # Read relic_data.json\n",
    "    with open(json_path, 'r', encoding='utf-8') as f:\n",
    "        data = json.load(f)\n",
    "        \n",
    "    # Get the main image path\n",
    "    main_img = data.get('img')\n",
    "    if not main_img:\n",
    "        continue\n",
    "        \n",
    "    # Get all image files in the directory\n",
    "    img_files = [f for f in dir_path.glob('*.jpg')] + [f for f in dir_path.glob('*.png')]\n",
    "    \n",
    "    # Delete all image files except the main image\n",
    "    for img_file in img_files:\n",
    "        if str(img_file.name) not in main_img:\n",
    "            try:\n",
    "                #print(img_file.name)\n",
    "                img_file.unlink()\n",
    "                print(f\"Deleted: {img_file}\")\n",
    "            except Exception as e:\n",
    "                print(f\"Error deleting {img_file}: {e}\")\n"
   ]
  }
 ],
 "metadata": {
  "kernelspec": {
   "display_name": "venv_dcnt",
   "language": "python",
   "name": "python3"
  },
  "language_info": {
   "codemirror_mode": {
    "name": "ipython",
    "version": 3
   },
   "file_extension": ".py",
   "mimetype": "text/x-python",
   "name": "python",
   "nbconvert_exporter": "python",
   "pygments_lexer": "ipython3",
   "version": "3.12.1"
  }
 },
 "nbformat": 4,
 "nbformat_minor": 2
}
