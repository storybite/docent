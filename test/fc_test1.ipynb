{
 "cells": [
  {
   "cell_type": "code",
   "execution_count": 11,
   "metadata": {},
   "outputs": [],
   "source": [
    "def get_balance_by_account(account_type: str) -> str:\n",
    "    if account_type == \"친구모임공용계좌\":\n",
    "        return \"200_000원\"\n",
    "    elif account_type == \"수시입출금계좌\":\n",
    "        return \"300_000원\"\n",
    "    elif account_type == \"정기적금계좌\":\n",
    "        return \"50_000_000원\"\n",
    "    else:\n",
    "        raise ValueError(f\"Invalid type: {account_type}\")\n",
    "\n",
    "def get_product_list() -> str:\n",
    "    return [\"한식\", \"중식\", \"일식\", \"교통비\", \"식재료\", \"전세계약\", \"해외여행\"]\n",
    "            \n",
    "def get_product_price(product: str) -> str:\n",
    "    price_table= {\n",
    "        \"한식\": \"인당 20_000원\",\n",
    "        \"중식\": \"인당 40_000원\",\n",
    "        \"일식\": \"인당 70_000원\",\n",
    "        \"교통비\": \"한달 200_000원\",\n",
    "        \"식재료\": \"한달 500_000원\",\n",
    "        \"전세계약\": \"100_000_000원\",\n",
    "        \"해외여행\": \"10_000_000원\"\n",
    "    }\n",
    "    return price_table[product]\n"
   ]
  },
  {
   "cell_type": "code",
   "execution_count": 12,
   "metadata": {},
   "outputs": [],
   "source": [
    "tools=[\n",
    "    {\n",
    "        \"name\": \"get_balance_by_account\",\n",
    "        \"description\": \"계좌별 잔액을 가져옵니다.\",\n",
    "        \"input_schema\": {\n",
    "            \"type\": \"object\",\n",
    "            \"properties\": {\n",
    "                \"account\": {\n",
    "                    \"type\": \"string\",\n",
    "                    \"enum\": [\"친구모임공용계좌\", \"수시입출금계좌\", \"정기적금계좌\"],\n",
    "                    \"description\": \"계좌 유형\"\n",
    "                }\n",
    "            },\n",
    "            \"required\": [\"account\"]\n",
    "        }\n",
    "    },\n",
    "    {\n",
    "        \"name\": \"get_product_list\",\n",
    "        \"description\": \"상품 목록을 가져옵니다.\",\n",
    "        \"input_schema\": {\n",
    "            \"type\": \"object\",\n",
    "            \"properties\": {},\n",
    "        }\n",
    "    },\n",
    "    {\n",
    "        \"name\": \"get_product_price\",\n",
    "        \"description\": \"상품 가격을 가져옵니다.\",\n",
    "        \"input_schema\": {\n",
    "            \"type\": \"object\",\n",
    "            \"properties\": {\n",
    "                \"product\": {\n",
    "                    \"type\": \"string\",\n",
    "                    \"enum\": [\"한식\", \"중식\", \"일식\", \"교통비\", \"식재료\", \"전세계약\", \"해외여행\"],\n",
    "                    \"description\": \"상품 유형\"\n",
    "                }\n",
    "            },\n",
    "            \"required\": [\"product\"]\n",
    "        }\n",
    "    },\n",
    "]\n"
   ]
  },
  {
   "cell_type": "code",
   "execution_count": 13,
   "metadata": {},
   "outputs": [],
   "source": [
    "import anthropic\n",
    "client = anthropic.Anthropic()\n",
    "\n",
    "sytstem_pronmpt = \"\"\"\n",
    "[추론], [행동], [관찰]의 단계를 번걸아가며 질문에 답하는 과정을 통해 과제를 해결합니다.\n",
    "\n",
    "[추론]: 현재 상황에서 추론 과정을 기술합니다. 예를 들면 \"문제를 해결하기 위해 무엇이 필요한가?\" 또는 \"다음에 어떤 정보를 검색해야 할까?\" 같이 고려사항이나 계획을 서술합니다.\n",
    "[행동]: 추론에 따라 문제를 해결할 수 있는 도구를 사용합니다. \n",
    "[관찰]: 행동의 결과로 얻은 정보를 객관적으로 기술합니다. \n",
    "\"\"\".strip()\n",
    "\n",
    "sytstem_pronmpt = \"\"\"\n",
    "사용자의 질문에 적절한 응답을 도출할 때까지 주어진 도구를 사용하세요.\n",
    "\"\"\"\n",
    "\n",
    "def request_tool_call(messages: list):\n",
    "    response = client.messages.create(  \n",
    "        model=\"claude-sonnet-4-20250514\",\n",
    "        max_tokens=1024,\n",
    "        temperature=0,\n",
    "        tools=tools,\n",
    "        tool_choice={\"type\": \"auto\"},\n",
    "        system=sytstem_pronmpt,\n",
    "        messages=messages\n",
    "    )\n",
    "    return response "
   ]
  },
  {
   "cell_type": "code",
   "execution_count": 14,
   "metadata": {},
   "outputs": [],
   "source": [
    "tool_repository = {\n",
    "    \"get_balance_by_account\": lambda account: get_balance_by_account(account),\n",
    "    \"get_product_list\": lambda: get_product_list(),\n",
    "    \"get_product_price\": lambda product: get_product_price(product),\n",
    "}"
   ]
  },
  {
   "cell_type": "code",
   "execution_count": null,
   "metadata": {},
   "outputs": [],
   "source": [
    "#\"content\": \"이번 여름에 해외여행을 가는 게 좋을까, 전세 집으로 이사 하는 게 좋을까?\"\n",
    "# 내일 친구들과 정기 모임을 해야 해. 총 10명인데 예산 범위 내에서 어디가면 좋을까?"
   ]
  },
  {
   "cell_type": "code",
   "execution_count": 52,
   "metadata": {},
   "outputs": [
    {
     "name": "stdout",
     "output_type": "stream",
     "text": [
      "[추론]: 해외여행과 전세 이사 중 어떤 것이 좋을지 판단하려면 각각의 비용과 현재 보유한 자금을 비교해봐야 합니다. 먼저 해외여행과 전세계약의 가격을 확인하고, 현재 계좌별 잔액을 파악해서 재정적 여유를 확인해보겠습니다.\n",
      "\n",
      "[행동]: 먼저 해외여행과 전세계약의 가격을 확인해보겠습니다.\n",
      "[관찰]: 해외여행 비용은 1,000만원이고, 전세계약 비용은 1억원입니다. 이제 현재 보유 자금을 확인해보겠습니다.\n",
      "\n",
      "[행동]: 각 계좌별 잔액을 확인해보겠습니다.\n",
      "[관찰]: 현재 보유 자금 현황은 다음과 같습니다:\n",
      "- 친구모임공용계좌: 20만원\n",
      "- 수시입출금계좌: 30만원  \n",
      "- 정기적금계좌: 5,000만원\n",
      "- **총 보유 자금: 5,050만원**\n",
      "\n",
      "**재정적 분석 결과:**\n",
      "\n",
      "1. **해외여행 (1,000만원)**: 현재 보유 자금(5,050만원)으로 충분히 가능합니다. 여행 후에도 4,050만원이 남아 여유가 있습니다.\n",
      "\n",
      "2. **전세계약 (1억원)**: 현재 보유 자금이 5,050만원으로 부족합니다. 약 4,950만원이 더 필요한 상황입니다.\n",
      "\n",
      "**추천사항:**\n",
      "현재 재정 상황을 고려할 때 **해외여행**을 추천드립니다. 전세 이사는 현재 자금으로는 불가능하며, 추가 자금 마련이나 대출이 필요한 상황입니다. \n",
      "\n",
      "해외여행을 다녀온 후 남은 자금으로 계속 저축을 하시거나, 전세 자금 마련을 위한 장기적인 계획을 세우시는 것이 좋겠습니다.\n"
     ]
    }
   ],
   "source": [
    "user_query = \"\"\"\n",
    "이번 여름에 해외여행을 가는 게 좋을까, 전세로 이사하는 게 좋을까?\n",
    "\"\"\".strip()\n",
    "\n",
    "messages = [{\"role\": \"user\", \"content\": user_query}]                \n",
    "\n",
    "response = request_tool_call(messages)\n",
    "print(response.content[0].text)\n",
    "\n",
    "while(response.stop_reason == \"tool_use\"):\n",
    "    tool_result_blocks = []\n",
    "    \n",
    "    for content in response.content:\n",
    "        if content.type != \"tool_use\":         \n",
    "            continue\n",
    "        func_name, args = content.name, content.input\n",
    "        #print(func_name, args)\n",
    "        tool_result = tool_repository[func_name](**args)\n",
    "        tool_result_blocks.append({\n",
    "            \"type\": \"tool_result\",\n",
    "            \"tool_use_id\": content.id,\n",
    "            \"content\": str(tool_result),\n",
    "        })        \n",
    "    \n",
    "    messages.extend([\n",
    "        {\n",
    "            \"role\": \"assistant\",\n",
    "            \"content\": response.content\n",
    "        },\n",
    "        {\n",
    "            \"role\": \"user\",\n",
    "            \"content\": tool_result_blocks,\n",
    "        },\n",
    "    ])\n",
    "    response = request_tool_call(messages)\n",
    "    print(response.content[0].text)\n",
    "\n",
    "\n",
    "\n",
    "    #print(tool_result)   \n",
    "#print(response.content[0].text)"
   ]
  },
  {
   "cell_type": "code",
   "execution_count": null,
   "metadata": {},
   "outputs": [
    {
     "name": "stdout",
     "output_type": "stream",
     "text": [
      "[관찰]: \n",
      "- 한식: 인당 20,000원\n",
      "- 중식: 인당 40,000원  \n",
      "- 일식: 인당 70,000원\n",
      "\n",
      "[추론]: 현재 예산이 200,000원이고 10명이므로, 각 옵션별 총 비용을 계산해보면:\n",
      "- 한식: 20,000원 × 10명 = 200,000원 (예산과 정확히 일치)\n",
      "- 중식: 40,000원 × 10명 = 400,000원 (예산 초과)\n",
      "- 일식: 70,000원 × 10명 = 700,000원 (예산 초과)\n",
      "\n",
      "친구모임공용계좌의 200,000원 예산으로는 한식만 가능합니다.\n",
      "\n",
      "친구들과의 정기 모임 장소 추천드립니다!\n",
      "\n",
      "**현재 예산 상황:**\n",
      "- 친구모임공용계좌 잔액: 200,000원\n",
      "- 참석 인원: 10명\n",
      "- 1인당 예산: 20,000원\n",
      "\n",
      "**추천 옵션:**\n",
      "🍚 **한식당** - 인당 20,000원 (총 200,000원)\n",
      "- 예산에 딱 맞는 옵션입니다\n",
      "- 10명이 함께 식사하기에 적당한 가격대입니다\n",
      "- 한국 음식으로 모든 분들이 부담없이 즐기실 수 있을 것 같습니다\n",
      "\n",
      "**참고사항:**\n",
      "- 중식(인당 40,000원)과 일식(인당 70,000원)은 현재 예산을 초과합니다\n",
      "- 한식당에서 정기 모임을 가지시는 것을 추천드립니다!\n",
      "\n",
      "즐거운 모임 되세요! 🎉\n"
     ]
    }
   ],
   "source": [
    "print(response.content[0].text)"
   ]
  },
  {
   "cell_type": "code",
   "execution_count": 48,
   "metadata": {},
   "outputs": [],
   "source": [
    "messages.append({\"role\": \"assistant\",\"content\": response.content})"
   ]
  },
  {
   "cell_type": "code",
   "execution_count": 49,
   "metadata": {},
   "outputs": [
    {
     "name": "stdout",
     "output_type": "stream",
     "text": [
      "[추론]: 친구들과의 정기 모임 장소를 추천하기 위해서는 현재 예산이 얼마나 되는지 파악해야 합니다. 사용자가 \"예산 범위 내에서\"라고 했으므로 먼저 계좌 잔액을 확인하고, 그 다음 상품(식당) 가격 정보를 확인해서 10명이 이용할 수 있는 적절한 옵션을 제안해야 합니다.\n",
      "\n",
      "[행동]: 먼저 친구 모임용 계좌의 잔액을 확인하겠습니다.\n",
      "[관찰]: 친구모임공용계좌에 200,000원이 있습니다.\n",
      "\n",
      "[추론]: 10명이 20만원 예산으로 식사를 할 수 있는 옵션을 찾기 위해 각 음식 종류별 가격을 확인해보겠습니다. 1인당 2만원 정도의 예산이 있으므로 다양한 옵션을 검토해보겠습니다.\n",
      "\n",
      "[행동]: 상품 목록을 먼저 확인하고 각 음식 종류의 가격을 알아보겠습니다.\n",
      "[관찰]: 음식 관련 상품으로는 한식, 중식, 일식이 있습니다.\n",
      "\n",
      "[행동]: 각 음식 종류별 가격을 확인해보겠습니다.\n",
      "[관찰]: \n",
      "- 한식: 인당 20,000원\n",
      "- 중식: 인당 40,000원  \n",
      "- 일식: 인당 70,000원\n",
      "\n",
      "[추론]: 현재 예산이 200,000원이고 10명이므로, 각 옵션별 총 비용을 계산해보면:\n",
      "- 한식: 20,000원 × 10명 = 200,000원 (예산과 정확히 일치)\n",
      "- 중식: 40,000원 × 10명 = 400,000원 (예산 초과)\n",
      "- 일식: 70,000원 × 10명 = 700,000원 (예산 초과)\n",
      "\n",
      "친구모임공용계좌의 200,000원 예산으로는 한식만 가능합니다.\n",
      "\n",
      "친구들과의 정기 모임 장소 추천드립니다!\n",
      "\n",
      "**현재 예산 상황:**\n",
      "- 친구모임공용계좌 잔액: 200,000원\n",
      "- 참석 인원: 10명\n",
      "- 1인당 예산: 20,000원\n",
      "\n",
      "**추천 옵션:**\n",
      "🍚 **한식당** - 인당 20,000원 (총 200,000원)\n",
      "- 예산에 딱 맞는 옵션입니다\n",
      "- 10명이 함께 식사하기에 적당한 가격대입니다\n",
      "- 한국 음식으로 모든 분들이 부담없이 즐기실 수 있을 것 같습니다\n",
      "\n",
      "**참고사항:**\n",
      "- 중식(인당 40,000원)과 일식(인당 70,000원)은 현재 예산을 초과합니다\n",
      "- 한식당에서 정기 모임을 가지시는 것을 추천드립니다!\n",
      "\n",
      "즐거운 모임 되세요! 🎉\n"
     ]
    }
   ],
   "source": [
    "for message in messages[1:]:\n",
    "    if message[\"role\"] == \"assistant\":\n",
    "        print(message[\"content\"][0].text)\n",
    "        # if message[\"content\"][0].type == \"text\":\n",
    "        #     print(message[\"content\"][0].text)\n",
    "    # if message[\"role\"] == \"user\":        \n",
    "    #     if message[\"content\"][0]['type'] == \"tool_result\":\n",
    "    #         print(message[\"content\"][0]['content'])"
   ]
  },
  {
   "cell_type": "code",
   "execution_count": 27,
   "metadata": {},
   "outputs": [
    {
     "name": "stdout",
     "output_type": "stream",
     "text": [
      "[추론]: 친구 정기 모임 장소를 추천하기 위해서는 먼저 예산 범위를 파악해야 합니다. 이를 위해 친구모임공용계좌의 잔액을 확인하고, 10명이 함께 갈 수 있는 상품들의 가격을 비교해봐야 겠습니다.\n",
      "\n",
      "[행동]: 먼저 친구모임공용계좌의 잔액을 확인해보겠습니다.\n",
      "200_000원\n",
      "[관찰]: 친구모임공용계좌에 200,000원이 있습니다.\n",
      "\n",
      "[추론]: 이제 10명이 함께 갈 수 있는 상품들의 가격을 확인해서 예산 내에서 가능한 옵션들을 찾아보겠습니다. 먼저 어떤 상품들이 있는지 목록을 확인해보겠습니다.\n",
      "\n",
      "[행동]: 상품 목록을 확인해보겠습니다.\n",
      "['한식', '중식', '일식', '교통비', '식재료', '전세계약', '해외여행']\n",
      "[관찰]: 한식, 중식, 일식, 교통비, 식재료, 전세계약, 해외여행 상품이 있습니다.\n",
      "\n",
      "[추론]: 10명의 친구 모임에 적합한 상품들의 가격을 확인해보겠습니다. 음식 관련 상품들(한식, 중식, 일식)과 식재료, 그리고 필요시 교통비를 확인해보겠습니다.\n",
      "\n",
      "[행동]: 각 상품의 가격을 확인해보겠습니다.\n",
      "인당 20_000원\n"
     ]
    },
    {
     "ename": "TypeError",
     "evalue": "string indices must be integers, not 'str'",
     "output_type": "error",
     "traceback": [
      "\u001b[1;31m---------------------------------------------------------------------------\u001b[0m",
      "\u001b[1;31mTypeError\u001b[0m                                 Traceback (most recent call last)",
      "Cell \u001b[1;32mIn[27], line 2\u001b[0m\n\u001b[0;32m      1\u001b[0m \u001b[38;5;28;01mfor\u001b[39;00m v \u001b[38;5;129;01min\u001b[39;00m messages[\u001b[38;5;241m1\u001b[39m:]:\n\u001b[1;32m----> 2\u001b[0m     \u001b[38;5;28;01mif\u001b[39;00m \u001b[43mv\u001b[49m\u001b[43m[\u001b[49m\u001b[38;5;124;43m\"\u001b[39;49m\u001b[38;5;124;43mrole\u001b[39;49m\u001b[38;5;124;43m\"\u001b[39;49m\u001b[43m]\u001b[49m \u001b[38;5;241m==\u001b[39m \u001b[38;5;124m\"\u001b[39m\u001b[38;5;124massistant\u001b[39m\u001b[38;5;124m\"\u001b[39m:\n\u001b[0;32m      3\u001b[0m         \u001b[38;5;28;01mif\u001b[39;00m v[\u001b[38;5;124m\"\u001b[39m\u001b[38;5;124mcontent\u001b[39m\u001b[38;5;124m\"\u001b[39m][\u001b[38;5;241m0\u001b[39m]\u001b[38;5;241m.\u001b[39mtype \u001b[38;5;241m==\u001b[39m \u001b[38;5;124m\"\u001b[39m\u001b[38;5;124mtext\u001b[39m\u001b[38;5;124m\"\u001b[39m:\n\u001b[0;32m      4\u001b[0m             \u001b[38;5;28mprint\u001b[39m(v[\u001b[38;5;124m\"\u001b[39m\u001b[38;5;124mcontent\u001b[39m\u001b[38;5;124m\"\u001b[39m][\u001b[38;5;241m0\u001b[39m]\u001b[38;5;241m.\u001b[39mtext)\n",
      "\u001b[1;31mTypeError\u001b[0m: string indices must be integers, not 'str'"
     ]
    }
   ],
   "source": [
    "for v in messages[1:]:\n",
    "    if v[\"role\"] == \"assistant\":\n",
    "        if v[\"content\"][0].type == \"text\":\n",
    "            print(v[\"content\"][0].text)\n",
    "    if v[\"role\"] == \"user\":        \n",
    "        if v[\"content\"][0]['type'] == \"tool_result\":\n",
    "            print(v[\"content\"][0]['content'])"
   ]
  },
  {
   "cell_type": "code",
   "execution_count": null,
   "metadata": {},
   "outputs": [],
   "source": []
  },
  {
   "cell_type": "code",
   "execution_count": null,
   "metadata": {},
   "outputs": [],
   "source": []
  }
 ],
 "metadata": {
  "kernelspec": {
   "display_name": "venv_dcnt",
   "language": "python",
   "name": "python3"
  },
  "language_info": {
   "codemirror_mode": {
    "name": "ipython",
    "version": 3
   },
   "file_extension": ".py",
   "mimetype": "text/x-python",
   "name": "python",
   "nbconvert_exporter": "python",
   "pygments_lexer": "ipython3",
   "version": "3.12.1"
  }
 },
 "nbformat": 4,
 "nbformat_minor": 2
}
