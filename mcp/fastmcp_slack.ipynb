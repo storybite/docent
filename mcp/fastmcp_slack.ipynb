{
 "cells": [
  {
   "cell_type": "code",
   "execution_count": 14,
   "metadata": {},
   "outputs": [],
   "source": [
    "import os\n",
    "import json\n",
    "import base64\n",
    "\n",
    "config = {\n",
    "    \"token\": os.getenv(\"slack_bot_token\"),\n",
    "}\n",
    "\n",
    "config_json = json.dumps(config, separators=(\",\", \":\")).encode()\n",
    "config_b64 = base64.urlsafe_b64encode(config_json).decode()  # str\n",
    "smithery_api_key = os.getenv(\"smithery_api_key\")\n",
    "\n",
    "url = f\"https://server.smithery.ai/@smithery-ai/slack/mcp?config={config_b64}&api_key={smithery_api_key}\""
   ]
  },
  {
   "cell_type": "code",
   "execution_count": 17,
   "metadata": {},
   "outputs": [
    {
     "name": "stdout",
     "output_type": "stream",
     "text": [
      "Available tools: [Tool(name='slack_list_channels', description='List public or pre-defined channels in the workspace with pagination', inputSchema={'type': 'object', 'properties': {'limit': {'type': 'number', 'default': 100, 'description': 'Maximum number of channels to return (default 100, max 200)'}, 'cursor': {'type': 'string', 'description': 'Pagination cursor for next page of results'}}, 'additionalProperties': False, '$schema': 'http://json-schema.org/draft-07/schema#'}, annotations=None), Tool(name='slack_post_message', description='Post a new message to a Slack channel or reply to a thread', inputSchema={'type': 'object', 'properties': {'channel_id': {'type': 'string', 'description': 'The ID of the channel to post to'}, 'text': {'type': 'string', 'description': 'The message text to post'}, 'thread_ts': {'type': 'string', 'description': \"Optional. The timestamp of the parent message to reply to in the format '1234567890.123456'. When provided, the message will be posted as a reply to the thread.\"}}, 'required': ['channel_id', 'text'], 'additionalProperties': False, '$schema': 'http://json-schema.org/draft-07/schema#'}, annotations=None), Tool(name='slack_add_reaction', description='Add a reaction emoji to a message', inputSchema={'type': 'object', 'properties': {'channel_id': {'type': 'string', 'description': 'The ID of the channel containing the message'}, 'timestamp': {'type': 'string', 'description': 'The timestamp of the message to react to'}, 'reaction': {'type': 'string', 'description': 'The name of the emoji reaction (without ::)'}}, 'required': ['channel_id', 'timestamp', 'reaction'], 'additionalProperties': False, '$schema': 'http://json-schema.org/draft-07/schema#'}, annotations=None), Tool(name='slack_get_channel_history', description='Get recent messages from a channel', inputSchema={'type': 'object', 'properties': {'channel_id': {'type': 'string', 'description': 'The ID of the channel'}, 'limit': {'type': 'number', 'default': 10, 'description': 'Number of messages to retrieve (default 10)'}}, 'required': ['channel_id'], 'additionalProperties': False, '$schema': 'http://json-schema.org/draft-07/schema#'}, annotations=None), Tool(name='slack_get_thread_replies', description='Get all replies in a message thread', inputSchema={'type': 'object', 'properties': {'channel_id': {'type': 'string', 'description': 'The ID of the channel containing the thread'}, 'thread_ts': {'type': 'string', 'description': \"The timestamp of the parent message in the format '1234567890.123456'. Timestamps in the format without the period can be converted by adding the period such that 6 numbers come after it.\"}}, 'required': ['channel_id', 'thread_ts'], 'additionalProperties': False, '$schema': 'http://json-schema.org/draft-07/schema#'}, annotations=None), Tool(name='slack_get_users', description='Get a list of all users in the workspace with their basic profile information', inputSchema={'type': 'object', 'properties': {'cursor': {'type': 'string', 'description': 'Pagination cursor for next page of results'}, 'limit': {'type': 'number', 'default': 100, 'description': 'Maximum number of users to return (default 100, max 200)'}}, 'additionalProperties': False, '$schema': 'http://json-schema.org/draft-07/schema#'}, annotations=None), Tool(name='slack_get_user_profile', description='Get detailed profile information for a specific user', inputSchema={'type': 'object', 'properties': {'user_id': {'type': 'string', 'description': 'The ID of the user'}}, 'required': ['user_id'], 'additionalProperties': False, '$schema': 'http://json-schema.org/draft-07/schema#'}, annotations=None)]\n"
     ]
    }
   ],
   "source": [
    "from fastmcp import Client\n",
    "\n",
    "client = Client(url)\n",
    "\n",
    "async def main():\n",
    "    async with client:\n",
    "        tools = await client.list_tools()\n",
    "        print(f\"Available tools: {tools}\")\n",
    "\n",
    "await main()"
   ]
  },
  {
   "cell_type": "code",
   "execution_count": 11,
   "metadata": {},
   "outputs": [
    {
     "name": "stdout",
     "output_type": "stream",
     "text": [
      "Available tools: [Tool(name='slack_list_channels', description='List public or pre-defined channels in the workspace with pagination', inputSchema={'type': 'object', 'properties': {'limit': {'type': 'number', 'default': 100, 'description': 'Maximum number of channels to return (default 100, max 200)'}, 'cursor': {'type': 'string', 'description': 'Pagination cursor for next page of results'}}, 'additionalProperties': False, '$schema': 'http://json-schema.org/draft-07/schema#'}, annotations=None), Tool(name='slack_post_message', description='Post a new message to a Slack channel or reply to a thread', inputSchema={'type': 'object', 'properties': {'channel_id': {'type': 'string', 'description': 'The ID of the channel to post to'}, 'text': {'type': 'string', 'description': 'The message text to post'}, 'thread_ts': {'type': 'string', 'description': \"Optional. The timestamp of the parent message to reply to in the format '1234567890.123456'. When provided, the message will be posted as a reply to the thread.\"}}, 'required': ['channel_id', 'text'], 'additionalProperties': False, '$schema': 'http://json-schema.org/draft-07/schema#'}, annotations=None), Tool(name='slack_add_reaction', description='Add a reaction emoji to a message', inputSchema={'type': 'object', 'properties': {'channel_id': {'type': 'string', 'description': 'The ID of the channel containing the message'}, 'timestamp': {'type': 'string', 'description': 'The timestamp of the message to react to'}, 'reaction': {'type': 'string', 'description': 'The name of the emoji reaction (without ::)'}}, 'required': ['channel_id', 'timestamp', 'reaction'], 'additionalProperties': False, '$schema': 'http://json-schema.org/draft-07/schema#'}, annotations=None), Tool(name='slack_get_channel_history', description='Get recent messages from a channel', inputSchema={'type': 'object', 'properties': {'channel_id': {'type': 'string', 'description': 'The ID of the channel'}, 'limit': {'type': 'number', 'default': 10, 'description': 'Number of messages to retrieve (default 10)'}}, 'required': ['channel_id'], 'additionalProperties': False, '$schema': 'http://json-schema.org/draft-07/schema#'}, annotations=None), Tool(name='slack_get_thread_replies', description='Get all replies in a message thread', inputSchema={'type': 'object', 'properties': {'channel_id': {'type': 'string', 'description': 'The ID of the channel containing the thread'}, 'thread_ts': {'type': 'string', 'description': \"The timestamp of the parent message in the format '1234567890.123456'. Timestamps in the format without the period can be converted by adding the period such that 6 numbers come after it.\"}}, 'required': ['channel_id', 'thread_ts'], 'additionalProperties': False, '$schema': 'http://json-schema.org/draft-07/schema#'}, annotations=None), Tool(name='slack_get_users', description='Get a list of all users in the workspace with their basic profile information', inputSchema={'type': 'object', 'properties': {'cursor': {'type': 'string', 'description': 'Pagination cursor for next page of results'}, 'limit': {'type': 'number', 'default': 100, 'description': 'Maximum number of users to return (default 100, max 200)'}}, 'additionalProperties': False, '$schema': 'http://json-schema.org/draft-07/schema#'}, annotations=None), Tool(name='slack_get_user_profile', description='Get detailed profile information for a specific user', inputSchema={'type': 'object', 'properties': {'user_id': {'type': 'string', 'description': 'The ID of the user'}}, 'required': ['user_id'], 'additionalProperties': False, '$schema': 'http://json-schema.org/draft-07/schema#'}, annotations=None)]\n"
     ]
    }
   ],
   "source": [
    "from fastmcp import Client\n",
    "import asyncio\n",
    "from fastmcp.client.transports import StreamableHttpTransport\n",
    "\n",
    "# The Client automatically uses StreamableHttpTransport for HTTP URLs\n",
    "transport = StreamableHttpTransport(url)\n",
    "client = Client(transport)\n",
    "\n",
    "async def main():\n",
    "    async with client:\n",
    "        tools = await client.list_tools()\n",
    "        print(f\"Available tools: {tools}\")\n",
    "\n",
    "await main()"
   ]
  },
  {
   "cell_type": "code",
   "execution_count": 15,
   "metadata": {},
   "outputs": [
    {
     "name": "stderr",
     "output_type": "stream",
     "text": [
      "  + Exception Group Traceback (most recent call last):\n",
      "  |   File \"d:\\workspace\\docent\\venv_dcnt\\Lib\\site-packages\\IPython\\core\\interactiveshell.py\", line 3577, in run_code\n",
      "  |     await eval(code_obj, self.user_global_ns, self.user_ns)\n",
      "  |   File \"C:\\Users\\Public\\Documents\\ESTsoft\\CreatorTemp\\ipykernel_736\\484192742.py\", line 12, in <module>\n",
      "  |     await main()\n",
      "  |   File \"C:\\Users\\Public\\Documents\\ESTsoft\\CreatorTemp\\ipykernel_736\\484192742.py\", line 8, in main\n",
      "  |     async with client:\n",
      "  |   File \"d:\\workspace\\docent\\venv_dcnt\\Lib\\site-packages\\fastmcp\\client\\client.py\", line 96, in __aenter__\n",
      "  |     self._session = await self._session_cm.__aenter__()\n",
      "  |                     ^^^^^^^^^^^^^^^^^^^^^^^^^^^^^^^^^^^\n",
      "  |   File \"C:\\Users\\bigbl\\AppData\\Local\\Programs\\Python\\Python312\\Lib\\contextlib.py\", line 210, in __aenter__\n",
      "  |     return await anext(self.gen)\n",
      "  |            ^^^^^^^^^^^^^^^^^^^^^\n",
      "  |   File \"d:\\workspace\\docent\\venv_dcnt\\Lib\\site-packages\\fastmcp\\client\\transports.py\", line 119, in connect_session\n",
      "  |     async with sse_client(self.url, headers=self.headers) as transport:\n",
      "  |   File \"C:\\Users\\bigbl\\AppData\\Local\\Programs\\Python\\Python312\\Lib\\contextlib.py\", line 210, in __aenter__\n",
      "  |     return await anext(self.gen)\n",
      "  |            ^^^^^^^^^^^^^^^^^^^^^\n",
      "  |   File \"d:\\workspace\\docent\\venv_dcnt\\Lib\\site-packages\\mcp\\client\\sse.py\", line 53, in sse_client\n",
      "  |     async with anyio.create_task_group() as tg:\n",
      "  |   File \"d:\\workspace\\docent\\venv_dcnt\\Lib\\site-packages\\anyio\\_backends\\_asyncio.py\", line 772, in __aexit__\n",
      "  |     raise BaseExceptionGroup(\n",
      "  | ExceptionGroup: unhandled errors in a TaskGroup (1 sub-exception)\n",
      "  +-+---------------- 1 ----------------\n",
      "    | Traceback (most recent call last):\n",
      "    |   File \"d:\\workspace\\docent\\venv_dcnt\\Lib\\site-packages\\mcp\\client\\sse.py\", line 63, in sse_client\n",
      "    |     event_source.response.raise_for_status()\n",
      "    |   File \"d:\\workspace\\docent\\venv_dcnt\\Lib\\site-packages\\httpx\\_models.py\", line 829, in raise_for_status\n",
      "    |     raise HTTPStatusError(message, request=request, response=self)\n",
      "    | httpx.HTTPStatusError: Client error '400 Bad Request' for url 'https://server.smithery.ai/@smithery-ai/slack/mcp?config=eyJ0b2tlbiI6InhveGItODg5ODE5MzU3NjExMi04ODk4MjAwNDY0MjcyLWQzd3pWUGJ5MzhqeVVEem1hOHU0WENuUSJ9&api_key=503211e1-8541-4e3d-a25d-4a8423f9e87a'\n",
      "    | For more information check: https://developer.mozilla.org/en-US/docs/Web/HTTP/Status/400\n",
      "    +------------------------------------\n"
     ]
    }
   ],
   "source": [
    "from fastmcp import Client\n",
    "from fastmcp.client.transports import SSETransport\n",
    "\n",
    "transport = SSETransport(url)\n",
    "client = Client(transport)\n",
    "\n",
    "async def main():\n",
    "    async with client:\n",
    "        tools = await client.list_tools()\n",
    "        print(f\"Available tools: {tools}\")\n",
    "\n",
    "await main()"
   ]
  }
 ],
 "metadata": {
  "kernelspec": {
   "display_name": "venv_dcnt",
   "language": "python",
   "name": "python3"
  },
  "language_info": {
   "codemirror_mode": {
    "name": "ipython",
    "version": 3
   },
   "file_extension": ".py",
   "mimetype": "text/x-python",
   "name": "python",
   "nbconvert_exporter": "python",
   "pygments_lexer": "ipython3",
   "version": "3.12.1"
  }
 },
 "nbformat": 4,
 "nbformat_minor": 2
}
