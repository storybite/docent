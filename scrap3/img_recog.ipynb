{
 "cells": [
  {
   "cell_type": "code",
   "execution_count": 1,
   "metadata": {},
   "outputs": [],
   "source": [
    "import os\n",
    "image_path = os.path.join(\"relics\", \"348\", \"bon001958-00-01.jpg\")"
   ]
  },
  {
   "cell_type": "code",
   "execution_count": 15,
   "metadata": {},
   "outputs": [],
   "source": [
    "import anthropic\n",
    "import base64\n",
    "\n",
    "# 로컬 파일을 base64로 인코딩\n",
    "def get_base64_data(file_path):\n",
    "    with open(file_path, \"rb\") as f:\n",
    "        base64_data = base64.standard_b64encode(f.read()).decode(\"utf-8\")\n",
    "    return base64_data\n",
    "\n",
    "client = anthropic.Anthropic()\n",
    "\n",
    "def get_response(img_path, input_message):\n",
    "    message = client.messages.create(\n",
    "        model=\"claude-3-7-sonnet-20250219\",\n",
    "        max_tokens=1024,\n",
    "        temperature=0,\n",
    "        messages=[\n",
    "            {   \n",
    "                \"role\": \"user\",\n",
    "                \"content\": [\n",
    "                    {\n",
    "                        \"type\": \"image\",\n",
    "                        \"source\": {\n",
    "                            \"type\": \"base64\",\n",
    "                            \"media_type\": \"image/jpeg\",\n",
    "                            \"data\": get_base64_data(img_path)\n",
    "                        }\n",
    "                    },\n",
    "                    {\n",
    "                        \"type\": \"text\", \n",
    "                        \"text\": input_message\n",
    "                    }\n",
    "                ]\n",
    "            },\n",
    "        ],\n",
    "    )\n",
    "    return message\n",
    "resoponse = get_response(image_path, input_message=\"국립중앙박쿨관의 전시품입니다. 한국어로 묘사한 후 당신의 미적 감상을 표현하세요.\")    "
   ]
  },
  {
   "cell_type": "code",
   "execution_count": 16,
   "metadata": {},
   "outputs": [
    {
     "name": "stdout",
     "output_type": "stream",
     "text": [
      "('이 이미지는 국립중앙박물관에 전시된 석조 불상입니다. 타원형의 광배(光背, 후광)를 배경으로 서 있는 모습으로, 섬세하게 조각된 불교 '\n",
      " '조각상입니다. \\n'\n",
      " '\\n'\n",
      " '석재로 만들어진 이 조각상은 전통적인 불교 도상학적 특징을 보여주고 있습니다. 상체에는 정교한 장신구와 목걸이가 표현되어 있으며, 하체는 '\n",
      " '우아하게 드레이프된 의복으로 덮여 있습니다. 한 손은 설법이나 축복의 의미를 담은 수인(手印)을 취하고 있습니다. 머리에는 화려한 '\n",
      " '관(冠)을 쓰고 있으며, 얼굴은 평온하고 고요한 표정을 짓고 있습니다.\\n'\n",
      " '\\n'\n",
      " '미적 감상으로는, 이 불상은 한국 불교 조각의 우아함과 정신성을 잘 보여줍니다. 부드러운 곡선과 세밀한 조각 기법이 돋보이며, 시간이 '\n",
      " '지나 자연스럽게 형성된 석재의 질감이 작품에 고풍스러운 아름다움을 더해줍니다. 광배의 장식적인 문양과 불상의 균형 잡힌 비례는 당시 '\n",
      " '장인들의 뛰어난 기술력을 보여주는 증거입니다. 이 작품은 단순한 종교적 상징을 넘어 한국 전통 예술의 미학적 가치와 영적 깊이를 동시에 '\n",
      " '담고 있습니다.')\n"
     ]
    }
   ],
   "source": [
    "from pprint import pprint\n",
    "pprint(resoponse.content[0].text)\n",
    "\n"
   ]
  }
 ],
 "metadata": {
  "kernelspec": {
   "display_name": "venv_dcnt",
   "language": "python",
   "name": "python3"
  },
  "language_info": {
   "codemirror_mode": {
    "name": "ipython",
    "version": 3
   },
   "file_extension": ".py",
   "mimetype": "text/x-python",
   "name": "python",
   "nbconvert_exporter": "python",
   "pygments_lexer": "ipython3",
   "version": "3.12.1"
  }
 },
 "nbformat": 4,
 "nbformat_minor": 2
}
