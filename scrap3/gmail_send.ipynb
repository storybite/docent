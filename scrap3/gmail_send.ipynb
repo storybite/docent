{
 "cells": [
  {
   "cell_type": "code",
   "execution_count": 8,
   "metadata": {},
   "outputs": [
    {
     "name": "stdout",
     "output_type": "stream",
     "text": [
      "메일 전송 완료\n"
     ]
    }
   ],
   "source": [
    "import smtplib\n",
    "from email.mime.text import MIMEText\n",
    "\n",
    "_body = \"\"\"\n",
    "안녕하세요? 요청하셨던 문화해설사 예약이 완료되었습니다.\n",
    "\n",
    "일시: 2025-03-20 10:00\n",
    "장소: 국립중앙박물관\n",
    "\n",
    "1. 문화해설사 정보:\n",
    "- 이름: 김혜진\n",
    "- 연락처: heyjin337@gmail.com\n",
    "\n",
    "2. 요청자 정보\n",
    "- 이름: 김민지\n",
    "- 연락처: minjigobi@gmail.com\n",
    "\n",
    "감사합니다.\n",
    "\"\"\"\n",
    "\n",
    "def send_mail():\n",
    "    sender = \"bigblogger73@gmail.com\"\n",
    "    receiver = \"minjigobi@gmail.com\"\n",
    "    subject = \"안녕하세요, 문화해설사 예약이 완료되었습니다_1\"\n",
    "    body = _body\n",
    "    cc = \"heyjin337@gmail.com\"\n",
    "\n",
    "    # 모든 수신자를 리스트에 포함\n",
    "    recipients = [receiver,cc]\n",
    "    msg = MIMEText(body)         # 단순 텍스트 본문\n",
    "    msg['Subject'] = subject\n",
    "    msg['From'] = sender\n",
    "    msg['To'] = receiver\n",
    "    msg['Cc'] = cc\n",
    "\n",
    "    # Gmail SMTP: smtp.gmail.com, 포트 587(STARTTLS) 사용\n",
    "    smtp_server = smtplib.SMTP('smtp.gmail.com', 587)\n",
    "    smtp_server.ehlo()           # 서버 연결 식별\n",
    "    smtp_server.starttls()       # TLS(보안) 연결 시작\n",
    "    smtp_server.login(sender, 'qgpe dlcj jfar peyc')\n",
    "    \n",
    "    smtp_server.sendmail(sender, recipients, msg.as_string())\n",
    "    smtp_server.quit()\n",
    "    print(\"메일 전송 완료\")\n",
    "\n",
    "if __name__ == \"__main__\":\n",
    "    send_mail()"
   ]
  }
 ],
 "metadata": {
  "kernelspec": {
   "display_name": "venv_dcnt",
   "language": "python",
   "name": "python3"
  },
  "language_info": {
   "codemirror_mode": {
    "name": "ipython",
    "version": 3
   },
   "file_extension": ".py",
   "mimetype": "text/x-python",
   "name": "python",
   "nbconvert_exporter": "python",
   "pygments_lexer": "ipython3",
   "version": "3.12.1"
  }
 },
 "nbformat": 4,
 "nbformat_minor": 2
}
